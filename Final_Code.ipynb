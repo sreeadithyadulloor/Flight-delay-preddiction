{
 "cells": [
  {
   "cell_type": "code",
   "execution_count": 0,
   "metadata": {
    "application/vnd.databricks.v1+cell": {
     "cellMetadata": {
      "byteLimit": 2048000,
      "rowLimit": 10000
     },
     "inputWidgets": {},
     "nuid": "5fa1360a-17a9-47e5-a2d1-4aa463177ed4",
     "showTitle": false,
     "title": ""
    }
   },
   "outputs": [],
   "source": [
    "from pyspark.sql import SparkSession\n",
    "\n",
    "# Create a Spark session\n",
    "spark = SparkSession.builder.appName(\"airlineAnalytics\").getOrCreate()"
   ]
  },
  {
   "cell_type": "code",
   "execution_count": 0,
   "metadata": {
    "application/vnd.databricks.v1+cell": {
     "cellMetadata": {
      "byteLimit": 2048000,
      "rowLimit": 10000
     },
     "inputWidgets": {},
     "nuid": "920f6eaf-064c-4052-8468-7fb2631b76db",
     "showTitle": false,
     "title": ""
    }
   },
   "outputs": [],
   "source": [
    "# Define the parameters for your Azure Blob Storage\n",
    "storage_account_name = \"dataairline\"\n",
    "container_name = \"data\"\n",
    "sas_token = \"sp=racwdli&st=2024-05-01T04:49:42Z&se=2024-10-05T12:49:42Z&spr=https&sv=2022-11-02&sr=c&sig=ZcMW5BxSC9i%2FXgzD%2BRUxHqUPrguVrYKgPi4jTRC1CaQ%3D\"  \n",
    "\n"
   ]
  },
  {
   "cell_type": "code",
   "execution_count": 0,
   "metadata": {
    "application/vnd.databricks.v1+cell": {
     "cellMetadata": {
      "byteLimit": 2048000,
      "rowLimit": 10000
     },
     "inputWidgets": {},
     "nuid": "2a995934-d861-437f-987c-89677fdb9aad",
     "showTitle": false,
     "title": ""
    }
   },
   "outputs": [
    {
     "output_type": "stream",
     "name": "stdout",
     "output_type": "stream",
     "text": [
      "/mnt/dataairline/data has been unmounted.\n"
     ]
    },
    {
     "output_type": "display_data",
     "data": {
      "text/html": [
       "<style scoped>\n",
       "  .table-result-container {\n",
       "    max-height: 300px;\n",
       "    overflow: auto;\n",
       "  }\n",
       "  table, th, td {\n",
       "    border: 1px solid black;\n",
       "    border-collapse: collapse;\n",
       "  }\n",
       "  th, td {\n",
       "    padding: 5px;\n",
       "  }\n",
       "  th {\n",
       "    text-align: left;\n",
       "  }\n",
       "</style><div class='table-result-container'><table class='table-result'><thead style='background-color: white'><tr><th>path</th><th>name</th><th>size</th><th>modificationTime</th></tr></thead><tbody><tr><td>dbfs:/mnt/dataairline/data/merged_data.csv</td><td>merged_data.csv</td><td>6931362239</td><td>1714460780000</td></tr></tbody></table></div>"
      ]
     },
     "metadata": {
      "application/vnd.databricks.v1+output": {
       "addedWidgets": {},
       "aggData": [],
       "aggError": "",
       "aggOverflow": false,
       "aggSchema": [],
       "aggSeriesLimitReached": false,
       "aggType": "",
       "arguments": {},
       "columnCustomDisplayInfos": {},
       "data": [
        [
         "dbfs:/mnt/dataairline/data/merged_data.csv",
         "merged_data.csv",
         6931362239,
         1714460780000
        ]
       ],
       "datasetInfos": [],
       "dbfsResultPath": null,
       "isJsonSchema": true,
       "metadata": {},
       "overflow": false,
       "plotOptions": {
        "customPlotOptions": {},
        "displayType": "table",
        "pivotAggregation": null,
        "pivotColumns": null,
        "xColumns": null,
        "yColumns": null
       },
       "removedWidgets": [],
       "schema": [
        {
         "metadata": "{}",
         "name": "path",
         "type": "\"string\""
        },
        {
         "metadata": "{}",
         "name": "name",
         "type": "\"string\""
        },
        {
         "metadata": "{}",
         "name": "size",
         "type": "\"long\""
        },
        {
         "metadata": "{}",
         "name": "modificationTime",
         "type": "\"long\""
        }
       ],
       "type": "table"
      }
     },
     "output_type": "display_data"
    }
   ],
   "source": [
    "# Define the mount point path in DBFS (Databricks File System)\n",
    "dbfs_mount_point = \"/mnt/dataairline/data\"\n",
    "\n",
    "# Check if the mount point already exists, unmount if it does\n",
    "if any(mount.mountPoint == dbfs_mount_point for mount in dbutils.fs.mounts()):\n",
    "    dbutils.fs.unmount(dbfs_mount_point)\n",
    "\n",
    "# Mount the Azure Blob Storage container\n",
    "configs = {\n",
    "  \"fs.azure.sas.\" + container_name + \".\" + storage_account_name + \".blob.core.windows.net\": sas_token\n",
    "}\n",
    "\n",
    "dbutils.fs.mount(\n",
    "  source = \"wasbs://\" + container_name + \"@\" + storage_account_name + \".blob.core.windows.net\",\n",
    "  mount_point = dbfs_mount_point,\n",
    "  extra_configs = configs\n",
    ")\n",
    "\n",
    "# To verify that the mount was successful\n",
    "display(dbutils.fs.ls(dbfs_mount_point))\n"
   ]
  },
  {
   "cell_type": "code",
   "execution_count": 0,
   "metadata": {
    "application/vnd.databricks.v1+cell": {
     "cellMetadata": {
      "byteLimit": 2048000,
      "rowLimit": 10000
     },
     "inputWidgets": {},
     "nuid": "f2558559-c81a-4526-b18d-fe9f938be74f",
     "showTitle": false,
     "title": ""
    }
   },
   "outputs": [],
   "source": [
    "spark = SparkSession.builder \\\n",
    "    .config(\"spark.driver.maxResultSize\", \"8g\") \\\n",
    "    .getOrCreate()"
   ]
  },
  {
   "cell_type": "code",
   "execution_count": 0,
   "metadata": {
    "application/vnd.databricks.v1+cell": {
     "cellMetadata": {
      "byteLimit": 2048000,
      "rowLimit": 10000
     },
     "inputWidgets": {},
     "nuid": "26ce1b62-f477-4e85-b3f1-3a7a6a625db8",
     "showTitle": false,
     "title": ""
    }
   },
   "outputs": [
    {
     "output_type": "stream",
     "name": "stdout",
     "output_type": "stream",
     "text": [
      "root\n |-- _c0: string (nullable = true)\n |-- FL_DATE: string (nullable = true)\n |-- OP_CARRIER: string (nullable = true)\n |-- OP_CARRIER_FL_NUM: string (nullable = true)\n |-- ORIGIN: string (nullable = true)\n |-- DEST: string (nullable = true)\n |-- CRS_DEP_TIME: string (nullable = true)\n |-- DEP_TIME: string (nullable = true)\n |-- DEP_DELAY: string (nullable = true)\n |-- TAXI_OUT: string (nullable = true)\n |-- TAXI_IN: string (nullable = true)\n |-- CRS_ARR_TIME: string (nullable = true)\n |-- ARR_TIME: string (nullable = true)\n |-- ARR_DELAY: string (nullable = true)\n |-- CANCELLED: string (nullable = true)\n |-- DIVERTED: string (nullable = true)\n |-- CRS_ELAPSED_TIME: string (nullable = true)\n |-- ACTUAL_ELAPSED_TIME: string (nullable = true)\n |-- AIR_TIME: string (nullable = true)\n |-- DISTANCE: string (nullable = true)\n\n+---+----------+----------+-----------------+------+----+------------+--------+---------+--------+-------+------------+--------+---------+---------+--------+----------------+-------------------+--------+--------+\n|_c0|   FL_DATE|OP_CARRIER|OP_CARRIER_FL_NUM|ORIGIN|DEST|CRS_DEP_TIME|DEP_TIME|DEP_DELAY|TAXI_OUT|TAXI_IN|CRS_ARR_TIME|ARR_TIME|ARR_DELAY|CANCELLED|DIVERTED|CRS_ELAPSED_TIME|ACTUAL_ELAPSED_TIME|AIR_TIME|DISTANCE|\n+---+----------+----------+-----------------+------+----+------------+--------+---------+--------+-------+------------+--------+---------+---------+--------+----------------+-------------------+--------+--------+\n|  0|2018-01-01|        UA|             2429|   EWR| DEN|      1517.0|  1512.0|     -5.0|    15.0|   10.0|      1745.0|  1722.0|    -23.0|      0.0|     0.0|           268.0|              250.0|   225.0|  1605.0|\n|  1|2018-01-01|        UA|             2427|   LAS| SFO|      1115.0|  1107.0|     -8.0|    11.0|    7.0|      1254.0|  1230.0|    -24.0|      0.0|     0.0|            99.0|               83.0|    65.0|   414.0|\n|  2|2018-01-01|        UA|             2426|   SNA| DEN|      1335.0|  1330.0|     -5.0|    15.0|    5.0|      1649.0|  1636.0|    -13.0|      0.0|     0.0|           134.0|              126.0|   106.0|   846.0|\n|  3|2018-01-01|        UA|             2425|   RSW| ORD|      1546.0|  1552.0|      6.0|    19.0|    6.0|      1756.0|  1754.0|     -2.0|      0.0|     0.0|           190.0|              182.0|   157.0|  1120.0|\n|  4|2018-01-01|        UA|             2424|   ORD| ALB|       630.0|   650.0|     20.0|    13.0|   10.0|       922.0|   936.0|     14.0|      0.0|     0.0|           112.0|              106.0|    83.0|   723.0|\n+---+----------+----------+-----------------+------+----+------------+--------+---------+--------+-------+------------+--------+---------+---------+--------+----------------+-------------------+--------+--------+\nonly showing top 5 rows\n\n"
     ]
    }
   ],
   "source": [
    "from pyspark.ml.regression import LinearRegression, RandomForestRegressor, GBTRegressor\n",
    "from pyspark.ml.evaluation import RegressionEvaluator\n",
    "from pyspark.ml.feature import VectorAssembler\n",
    "from pyspark.ml import Pipeline\n",
    "from pyspark.ml.regression import GBTRegressor\n",
    "from pyspark.ml.regression import RandomForestRegressor\n",
    "from pyspark.ml.tuning import ParamGridBuilder, CrossValidator\n",
    "from pyspark.ml.evaluation import RegressionEvaluator\n",
    "from pyspark.ml.feature import VectorAssembler\n",
    "# Create a Spark session\n",
    "spark = SparkSession.builder \\\n",
    "    .appName(\"AirlineDelayPrediction\") \\\n",
    "    .getOrCreate()\n",
    "\n",
    "# Load the data from CSV file\n",
    "df = spark.read.csv(\"/mnt/dataairline/data/merged_data.csv\", header=True)\n",
    "\n",
    "# Display the schema and some sample data\n",
    "df.printSchema()\n",
    "df.show(5)\n"
   ]
  },
  {
   "cell_type": "code",
   "execution_count": 0,
   "metadata": {
    "application/vnd.databricks.v1+cell": {
     "cellMetadata": {
      "byteLimit": 2048000,
      "rowLimit": 10000
     },
     "inputWidgets": {},
     "nuid": "32cdcbd2-9092-4445-a1d8-a9483cac618a",
     "showTitle": false,
     "title": ""
    }
   },
   "outputs": [],
   "source": [
    "# Select relevant columns and convert them to the appropriate data types\n",
    "selected_cols = ['DEP_DELAY', 'TAXI_OUT', 'TAXI_IN', 'CRS_ARR_TIME', 'CRS_ELAPSED_TIME', 'DISTANCE']\n",
    "df = df.select(*selected_cols)\n",
    "df = df.withColumn('DEP_DELAY', df['DEP_DELAY'].cast('float'))\n",
    "df = df.withColumn('TAXI_OUT', df['TAXI_OUT'].cast('float'))\n",
    "df = df.withColumn('TAXI_IN', df['TAXI_IN'].cast('float'))\n",
    "df = df.withColumn('CRS_ARR_TIME', df['CRS_ARR_TIME'].cast('float'))\n",
    "df = df.withColumn('CRS_ELAPSED_TIME', df['CRS_ELAPSED_TIME'].cast('float'))\n",
    "df = df.withColumn('DISTANCE', df['DISTANCE'].cast('float'))\n",
    "\n",
    "# Drop rows with null values\n",
    "df = df.dropna()\n"
   ]
  },
  {
   "cell_type": "code",
   "execution_count": 0,
   "metadata": {
    "application/vnd.databricks.v1+cell": {
     "cellMetadata": {
      "byteLimit": 2048000,
      "rowLimit": 10000
     },
     "inputWidgets": {},
     "nuid": "39db10dd-b1c6-45eb-b4e7-f46c42fd0233",
     "showTitle": false,
     "title": ""
    }
   },
   "outputs": [
    {
     "output_type": "execute_result",
     "data": {
      "text/plain": [
       "[Row(DEP_DELAY=-5.0, TAXI_OUT=15.0, TAXI_IN=10.0, CRS_ARR_TIME=1745.0, CRS_ELAPSED_TIME=268.0, DISTANCE=1605.0),\n",
       " Row(DEP_DELAY=-8.0, TAXI_OUT=11.0, TAXI_IN=7.0, CRS_ARR_TIME=1254.0, CRS_ELAPSED_TIME=99.0, DISTANCE=414.0),\n",
       " Row(DEP_DELAY=-5.0, TAXI_OUT=15.0, TAXI_IN=5.0, CRS_ARR_TIME=1649.0, CRS_ELAPSED_TIME=134.0, DISTANCE=846.0),\n",
       " Row(DEP_DELAY=6.0, TAXI_OUT=19.0, TAXI_IN=6.0, CRS_ARR_TIME=1756.0, CRS_ELAPSED_TIME=190.0, DISTANCE=1120.0),\n",
       " Row(DEP_DELAY=20.0, TAXI_OUT=13.0, TAXI_IN=10.0, CRS_ARR_TIME=922.0, CRS_ELAPSED_TIME=112.0, DISTANCE=723.0)]"
      ]
     },
     "execution_count": 7,
     "metadata": {},
     "output_type": "execute_result"
    }
   ],
   "source": [
    "df.head(5)"
   ]
  },
  {
   "cell_type": "code",
   "execution_count": 0,
   "metadata": {
    "application/vnd.databricks.v1+cell": {
     "cellMetadata": {
      "byteLimit": 2048000,
      "rowLimit": 10000
     },
     "inputWidgets": {},
     "nuid": "f92ef3cc-a943-4e68-8cf6-096605297176",
     "showTitle": false,
     "title": ""
    }
   },
   "outputs": [],
   "source": [
    "# Create a feature vector\n",
    "feature_cols = ['TAXI_OUT', 'TAXI_IN', 'CRS_ARR_TIME', 'CRS_ELAPSED_TIME', 'DISTANCE']\n",
    "assembler = VectorAssembler(inputCols=feature_cols, outputCol='features')\n",
    "df = assembler.transform(df)"
   ]
  },
  {
   "cell_type": "code",
   "execution_count": 0,
   "metadata": {
    "application/vnd.databricks.v1+cell": {
     "cellMetadata": {
      "byteLimit": 2048000,
      "rowLimit": 10000
     },
     "inputWidgets": {},
     "nuid": "25e505de-0179-4d57-9832-3937d1ff77ac",
     "showTitle": false,
     "title": ""
    }
   },
   "outputs": [
    {
     "output_type": "execute_result",
     "data": {
      "text/plain": [
       "[Row(DEP_DELAY=-5.0, TAXI_OUT=15.0, TAXI_IN=10.0, CRS_ARR_TIME=1745.0, CRS_ELAPSED_TIME=268.0, DISTANCE=1605.0, features=DenseVector([15.0, 10.0, 1745.0, 268.0, 1605.0])),\n",
       " Row(DEP_DELAY=-8.0, TAXI_OUT=11.0, TAXI_IN=7.0, CRS_ARR_TIME=1254.0, CRS_ELAPSED_TIME=99.0, DISTANCE=414.0, features=DenseVector([11.0, 7.0, 1254.0, 99.0, 414.0])),\n",
       " Row(DEP_DELAY=-5.0, TAXI_OUT=15.0, TAXI_IN=5.0, CRS_ARR_TIME=1649.0, CRS_ELAPSED_TIME=134.0, DISTANCE=846.0, features=DenseVector([15.0, 5.0, 1649.0, 134.0, 846.0])),\n",
       " Row(DEP_DELAY=6.0, TAXI_OUT=19.0, TAXI_IN=6.0, CRS_ARR_TIME=1756.0, CRS_ELAPSED_TIME=190.0, DISTANCE=1120.0, features=DenseVector([19.0, 6.0, 1756.0, 190.0, 1120.0])),\n",
       " Row(DEP_DELAY=20.0, TAXI_OUT=13.0, TAXI_IN=10.0, CRS_ARR_TIME=922.0, CRS_ELAPSED_TIME=112.0, DISTANCE=723.0, features=DenseVector([13.0, 10.0, 922.0, 112.0, 723.0]))]"
      ]
     },
     "execution_count": 9,
     "metadata": {},
     "output_type": "execute_result"
    }
   ],
   "source": [
    "df.head(5)"
   ]
  },
  {
   "cell_type": "code",
   "execution_count": 0,
   "metadata": {
    "application/vnd.databricks.v1+cell": {
     "cellMetadata": {
      "byteLimit": 2048000,
      "rowLimit": 10000
     },
     "inputWidgets": {},
     "nuid": "dcc3f693-604b-45f0-a3c2-c729fbb4557f",
     "showTitle": false,
     "title": ""
    }
   },
   "outputs": [],
   "source": [
    "# Split the data into training and test sets\n",
    "train_df, test_df = df.randomSplit([0.8, 0.2], seed=42)\n",
    "\n"
   ]
  },
  {
   "cell_type": "code",
   "execution_count": 0,
   "metadata": {
    "application/vnd.databricks.v1+cell": {
     "cellMetadata": {
      "byteLimit": 2048000,
      "rowLimit": 10000
     },
     "inputWidgets": {},
     "nuid": "5af73a99-6401-45df-b5ff-a48f076252e6",
     "showTitle": false,
     "title": ""
    }
   },
   "outputs": [
    {
     "output_type": "execute_result",
     "data": {
      "text/plain": [
       "49243105"
      ]
     },
     "execution_count": 11,
     "metadata": {},
     "output_type": "execute_result"
    }
   ],
   "source": [
    "train_df.count()"
   ]
  },
  {
   "cell_type": "code",
   "execution_count": 0,
   "metadata": {
    "application/vnd.databricks.v1+cell": {
     "cellMetadata": {
      "byteLimit": 2048000,
      "rowLimit": 10000
     },
     "inputWidgets": {},
     "nuid": "c416b355-2d64-422f-b649-87e7e7676db8",
     "showTitle": false,
     "title": ""
    }
   },
   "outputs": [],
   "source": [
    "# Define the base models\n",
    "lr = LinearRegression(featuresCol='features', labelCol='DEP_DELAY')\n",
    "rf = RandomForestRegressor(featuresCol='features', labelCol='DEP_DELAY')\n",
    "gbt = GBTRegressor(featuresCol='features', labelCol='DEP_DELAY')\n"
   ]
  },
  {
   "cell_type": "code",
   "execution_count": 0,
   "metadata": {
    "application/vnd.databricks.v1+cell": {
     "cellMetadata": {
      "byteLimit": 2048000,
      "rowLimit": 10000
     },
     "inputWidgets": {},
     "nuid": "6f881446-27de-474a-890a-cfaf08d46e15",
     "showTitle": false,
     "title": ""
    }
   },
   "outputs": [],
   "source": [
    "from pyspark.ml.regression import RandomForestRegressor, GBTRegressor\n",
    "from pyspark.ml import Pipeline\n",
    "\n"
   ]
  },
  {
   "cell_type": "code",
   "execution_count": 0,
   "metadata": {
    "application/vnd.databricks.v1+cell": {
     "cellMetadata": {
      "byteLimit": 2048000,
      "rowLimit": 10000
     },
     "inputWidgets": {},
     "nuid": "e1061599-77ff-4a21-a384-a914b7a72643",
     "showTitle": false,
     "title": ""
    }
   },
   "outputs": [
    {
     "output_type": "display_data",
     "data": {
      "application/vnd.jupyter.widget-view+json": {
       "model_id": "7493c3c17e5943ed9ccba3733de11507",
       "version_major": 2,
       "version_minor": 0
      },
      "text/plain": [
       "Downloading artifacts:   0%|          | 0/33 [00:00<?, ?it/s]"
      ]
     },
     "metadata": {},
     "output_type": "display_data"
    },
    {
     "output_type": "display_data",
     "data": {
      "application/vnd.jupyter.widget-view+json": {
       "model_id": "9deafb60c49a4a9fae3e5c2a4bb4ab2c",
       "version_major": 2,
       "version_minor": 0
      },
      "text/plain": [
       "Uploading artifacts:   0%|          | 0/4 [00:00<?, ?it/s]"
      ]
     },
     "metadata": {},
     "output_type": "display_data"
    }
   ],
   "source": [
    "lr = LinearRegression(featuresCol='features', labelCol='DEP_DELAY')\n",
    "rf = RandomForestRegressor(featuresCol='features', labelCol='DEP_DELAY')\n",
    "gbt = GBTRegressor(featuresCol='features', labelCol='DEP_DELAY')\n",
    "\n",
    "pipeline = Pipeline(stages=[lr.setPredictionCol('lr_prediction'), rf.setPredictionCol('rf_prediction'), gbt.setPredictionCol('gbt_prediction')])\n",
    "model = pipeline.fit(train_df)"
   ]
  },
  {
   "cell_type": "code",
   "execution_count": 0,
   "metadata": {
    "application/vnd.databricks.v1+cell": {
     "cellMetadata": {
      "byteLimit": 2048000,
      "rowLimit": 10000
     },
     "inputWidgets": {},
     "nuid": "d6b08852-0ad9-4660-a0de-9887fe470296",
     "showTitle": false,
     "title": ""
    }
   },
   "outputs": [],
   "source": [
    "# Make predictions\n",
    "predictions = model.transform(test_df)\n"
   ]
  },
  {
   "cell_type": "code",
   "execution_count": 0,
   "metadata": {
    "application/vnd.databricks.v1+cell": {
     "cellMetadata": {
      "byteLimit": 2048000,
      "rowLimit": 10000
     },
     "inputWidgets": {},
     "nuid": "836172a3-6287-45f6-acf9-42608ff451b7",
     "showTitle": false,
     "title": ""
    }
   },
   "outputs": [
    {
     "output_type": "stream",
     "name": "stdout",
     "output_type": "stream",
     "text": [
      "RMSE for Linear Regression: 36.50913146764792\n"
     ]
    }
   ],
   "source": [
    "# Evaluate the model\n",
    "evaluator = RegressionEvaluator(labelCol='DEP_DELAY', predictionCol='lr_prediction', metricName='rmse')\n",
    "rmse = evaluator.evaluate(predictions)\n",
    "print(f\"RMSE for Linear Regression: {rmse}\")"
   ]
  },
  {
   "cell_type": "code",
   "execution_count": 0,
   "metadata": {
    "application/vnd.databricks.v1+cell": {
     "cellMetadata": {
      "byteLimit": 2048000,
      "rowLimit": 10000
     },
     "inputWidgets": {},
     "nuid": "b995d45a-1e17-464c-a2e4-a6a7f990c24a",
     "showTitle": false,
     "title": ""
    }
   },
   "outputs": [
    {
     "output_type": "stream",
     "name": "stdout",
     "output_type": "stream",
     "text": [
      "RMSE for Random Forest: 36.4310083658203\n"
     ]
    }
   ],
   "source": [
    "evaluator = RegressionEvaluator(labelCol='DEP_DELAY', predictionCol='rf_prediction', metricName='rmse')\n",
    "rmse = evaluator.evaluate(predictions)\n",
    "print(f\"RMSE for Random Forest: {rmse}\")\n"
   ]
  },
  {
   "cell_type": "code",
   "execution_count": 0,
   "metadata": {
    "application/vnd.databricks.v1+cell": {
     "cellMetadata": {
      "byteLimit": 2048000,
      "rowLimit": 10000
     },
     "inputWidgets": {},
     "nuid": "e844c37a-50c0-4fc1-a4e6-c7f320d038de",
     "showTitle": false,
     "title": ""
    }
   },
   "outputs": [
    {
     "output_type": "stream",
     "name": "stdout",
     "output_type": "stream",
     "text": [
      "RMSE for Gradient Boosting: 36.370579661035116\n"
     ]
    }
   ],
   "source": [
    "evaluator = RegressionEvaluator(labelCol='DEP_DELAY', predictionCol='gbt_prediction', metricName='rmse')\n",
    "rmse = evaluator.evaluate(predictions)\n",
    "print(f\"RMSE for Gradient Boosting: {rmse}\")"
   ]
  },
  {
   "cell_type": "code",
   "execution_count": 0,
   "metadata": {
    "application/vnd.databricks.v1+cell": {
     "cellMetadata": {
      "byteLimit": 2048000,
      "rowLimit": 10000
     },
     "inputWidgets": {},
     "nuid": "209c5bb1-c591-4eff-be2b-2137deb2bda9",
     "showTitle": false,
     "title": ""
    }
   },
   "outputs": [],
   "source": [
    "from pyspark.ml.evaluation import BinaryClassificationEvaluator\n",
    "\n",
    "# Assuming 'prediction' column contains the model's raw predictions\n",
    "evaluator = BinaryClassificationEvaluator(labelCol='DEP_DELAY', rawPredictionCol='gbt_prediction', metricName='areaUnderROC')\n",
    "accuracy = evaluator.evaluate(predictions)"
   ]
  },
  {
   "cell_type": "code",
   "execution_count": 0,
   "metadata": {
    "application/vnd.databricks.v1+cell": {
     "cellMetadata": {
      "byteLimit": 2048000,
      "rowLimit": 10000
     },
     "inputWidgets": {},
     "nuid": "b7dbc73c-2ae9-4a1e-af2d-80da2bf60d8b",
     "showTitle": false,
     "title": ""
    }
   },
   "outputs": [
    {
     "output_type": "stream",
     "name": "stdout",
     "output_type": "stream",
     "text": [
      "RMSE for Gradient Boosting: 0.6256527308937533\n"
     ]
    }
   ],
   "source": [
    "print(f\"accuracy for Gradient Boosting: {accuracy}\")"
   ]
  },
  {
   "cell_type": "code",
   "execution_count": 0,
   "metadata": {
    "application/vnd.databricks.v1+cell": {
     "cellMetadata": {
      "byteLimit": 2048000,
      "rowLimit": 10000
     },
     "inputWidgets": {},
     "nuid": "08175399-1987-4d1e-9c40-5bcf93e82f54",
     "showTitle": false,
     "title": ""
    }
   },
   "outputs": [],
   "source": [
    "import os\n",
    "\n",
    "# Check if the directory exists and create if not\n",
    "directory = \"/mnt/dataairline/data\"\n",
    "if not os.path.exists(directory):\n",
    "    os.makedirs(directory)\n",
    "\n",
    "# Delete the file if it already exists\n",
    "file_path = os.path.join(directory, \"model\")\n",
    "if os.path.exists(file_path):\n",
    "    os.remove(file_path)\n",
    "\n",
    "# Save the model\n",
    "model.write().overwrite().save(file_path)"
   ]
  },
  {
   "cell_type": "code",
   "execution_count": 0,
   "metadata": {
    "application/vnd.databricks.v1+cell": {
     "cellMetadata": {
      "byteLimit": 2048000,
      "rowLimit": 10000
     },
     "inputWidgets": {},
     "nuid": "acc8582f-c949-4b63-b497-60b8426c39f5",
     "showTitle": false,
     "title": ""
    }
   },
   "outputs": [],
   "source": [
    "# Save the predictions\n",
    "predictions.write.save(\"/mnt/dataairline/predictions\", format='parquet')"
   ]
  },
  {
   "cell_type": "code",
   "execution_count": 0,
   "metadata": {
    "application/vnd.databricks.v1+cell": {
     "cellMetadata": {
      "byteLimit": 2048000,
      "rowLimit": 10000
     },
     "inputWidgets": {},
     "nuid": "3f97aa94-22d5-47ba-be7a-113da3b03f26",
     "showTitle": false,
     "title": ""
    }
   },
   "outputs": [],
   "source": [
    "from pyspark.ml.regression import DecisionTreeRegressor, GeneralizedLinearRegression\n",
    "from pyspark.ml.regression import GBTRegressor, RandomForestRegressor\n",
    "from pyspark.ml.evaluation import RegressionEvaluator\n",
    "\n"
   ]
  },
  {
   "cell_type": "code",
   "execution_count": 0,
   "metadata": {
    "application/vnd.databricks.v1+cell": {
     "cellMetadata": {
      "byteLimit": 2048000,
      "rowLimit": 10000
     },
     "inputWidgets": {},
     "nuid": "a4d24329-df9b-4bea-844a-8ba73653f819",
     "showTitle": false,
     "title": ""
    }
   },
   "outputs": [
    {
     "output_type": "display_data",
     "data": {
      "application/vnd.jupyter.widget-view+json": {
       "model_id": "96ffc7a810f14b48b74e6cf953ff5ca9",
       "version_major": 2,
       "version_minor": 0
      },
      "text/plain": [
       "Downloading artifacts:   0%|          | 0/9 [00:00<?, ?it/s]"
      ]
     },
     "metadata": {},
     "output_type": "display_data"
    },
    {
     "output_type": "display_data",
     "data": {
      "application/vnd.jupyter.widget-view+json": {
       "model_id": "55e2166ce40a412fbf48d8be17d40f41",
       "version_major": 2,
       "version_minor": 0
      },
      "text/plain": [
       "Uploading artifacts:   0%|          | 0/4 [00:00<?, ?it/s]"
      ]
     },
     "metadata": {},
     "output_type": "display_data"
    }
   ],
   "source": [
    "# Decision Tree\n",
    "dt = DecisionTreeRegressor(featuresCol='features', labelCol='DEP_DELAY')\n",
    "dt_model = dt.fit(train_df)"
   ]
  },
  {
   "cell_type": "code",
   "execution_count": 0,
   "metadata": {
    "application/vnd.databricks.v1+cell": {
     "cellMetadata": {
      "byteLimit": 2048000,
      "rowLimit": 10000
     },
     "inputWidgets": {},
     "nuid": "5e157897-d640-46ac-9968-d867cecfc70c",
     "showTitle": false,
     "title": ""
    }
   },
   "outputs": [
    {
     "output_type": "stream",
     "name": "stdout",
     "output_type": "stream",
     "text": [
      "+---------+--------+-------+------------+----------------+--------+--------------------+------------------+\n|DEP_DELAY|TAXI_OUT|TAXI_IN|CRS_ARR_TIME|CRS_ELAPSED_TIME|DISTANCE|            features|        prediction|\n+---------+--------+-------+------------+----------------+--------+--------------------+------------------+\n|    -60.0|    51.0|    6.0|      1835.0|           135.0|   689.0|[51.0,6.0,1835.0,...| 23.72516723569282|\n|    -51.0|    18.0|    3.0|      1917.0|            45.0|   198.0|[18.0,3.0,1917.0,...| 5.907273614096057|\n|    -50.0|    14.0|    9.0|      1920.0|            48.0|   198.0|[14.0,9.0,1920.0,...| 5.907273614096057|\n|    -49.0|    69.0|   11.0|        23.0|           333.0|  2475.0|[69.0,11.0,23.0,3...| 10.20656256644067|\n|    -46.0|     8.0|    5.0|      2030.0|            70.0|   345.0|[8.0,5.0,2030.0,7...| 12.94960468951689|\n|    -45.0|     6.0|    3.0|      2210.0|           179.0|  1192.0|[6.0,3.0,2210.0,1...|14.523343571860387|\n|    -43.0|     4.0|    4.0|      2156.0|           165.0|  1192.0|[4.0,4.0,2156.0,1...|14.523343571860387|\n|    -42.0|    12.0|    4.0|      2001.0|            37.0|    69.0|[12.0,4.0,2001.0,...| 5.907273614096057|\n|    -40.0|    25.0|    5.0|      2315.0|            57.0|   207.0|[25.0,5.0,2315.0,...| 10.01568543188655|\n|    -40.0|    33.0|    4.0|      2257.0|            52.0|    69.0|[33.0,4.0,2257.0,...|17.109433145103527|\n|    -39.0|    11.0|    6.0|      2359.0|            41.0|    83.0|[11.0,6.0,2359.0,...| 5.907273614096057|\n|    -39.0|    12.0|    3.0|      1240.0|            51.0|   213.0|[12.0,3.0,1240.0,...|5.6435189386251094|\n|    -38.0|     6.0|    3.0|      2140.0|           165.0|  1192.0|[6.0,3.0,2140.0,1...|14.523343571860387|\n|    -38.0|    14.0|    4.0|      2248.0|            58.0|   207.0|[14.0,4.0,2248.0,...| 10.01568543188655|\n|    -37.0|     6.0|    4.0|      1408.0|            44.0|   160.0|[6.0,4.0,1408.0,4...| 7.443011795638459|\n|    -37.0|    14.0|    4.0|      2001.0|            37.0|    69.0|[14.0,4.0,2001.0,...| 5.907273614096057|\n|    -36.0|    12.0|    4.0|      1538.0|            24.0|    31.0|[12.0,4.0,1538.0,...| 7.443011795638459|\n|    -35.0|    19.0|    4.0|      1239.0|            50.0|   213.0|[19.0,4.0,1239.0,...|5.6435189386251094|\n|    -34.0|    12.0|    5.0|      2359.0|            47.0|    83.0|[12.0,5.0,2359.0,...| 5.907273614096057|\n|    -34.0|    14.0|    5.0|      1739.0|            45.0|   213.0|[14.0,5.0,1739.0,...| 5.339229606938091|\n+---------+--------+-------+------------+----------------+--------+--------------------+------------------+\nonly showing top 20 rows\n\nRMSE for Decision Tree: 0.6183551705661791\n"
     ]
    }
   ],
   "source": [
    "dt_predictions = dt_model.transform(test_df)\n",
    "dt_predictions.show()  # Check the column names available in the DataFrame\n",
    "dt_rmse = evaluator.evaluate(dt_predictions.withColumnRenamed(\"prediction\", \"gbt_prediction\"))\n",
    "print(f\"RMSE for Decision Tree: {dt_rmse}\")"
   ]
  },
  {
   "cell_type": "code",
   "execution_count": 0,
   "metadata": {
    "application/vnd.databricks.v1+cell": {
     "cellMetadata": {},
     "inputWidgets": {},
     "nuid": "64c1527c-2533-41b2-86cb-1b831b1da1cb",
     "showTitle": false,
     "title": ""
    }
   },
   "outputs": [],
   "source": []
  }
 ],
 "metadata": {
  "application/vnd.databricks.v1+notebook": {
   "dashboards": [],
   "language": "python",
   "notebookMetadata": {
    "pythonIndentUnit": 4
   },
   "notebookName": "Untitled Notebook 2024-05-01 04:54:22",
   "widgets": {}
  }
 },
 "nbformat": 4,
 "nbformat_minor": 0
}
